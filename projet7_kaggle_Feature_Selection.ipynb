{
 "cells": [
  {
   "cell_type": "markdown",
   "metadata": {
    "Collapsed": "false",
    "_uuid": "748e245881e9a26d54da4c9431786b3f874734de"
   },
   "source": [
    "# Introduction: Feature Selection\n",
    "\n",
    "In this notebook we will apply feature engineering to the manual engineered features built in two previous kernels. We will reduce the number of features using several methods and then we will test the performance of the features using a fairly basic gradient boosting machine model. \n",
    "\n",
    "\n",
    "\n",
    "The full set of features was built in [Part One](https://www.kaggle.com/willkoehrsen/introduction-to-manual-feature-engineering) and [Part Two](https://www.kaggle.com/willkoehrsen/introduction-to-manual-feature-engineering-p2) of Manual Feature Engineering\n",
    "\n",
    "We will use three methods for feature selection:\n",
    "\n",
    "1. Remove collinear features\n",
    "2. Remove features with greater than a threshold percentage of missing values\n",
    "3. Keep only the most relevant features using feature importances from a model\n",
    "\n"
   ]
  },
  {
   "cell_type": "markdown",
   "metadata": {
    "Collapsed": "false",
    "_uuid": "97b0d94920dc9e25a5f1dbfd56702124ebc07769"
   },
   "source": [
    "Standard imports for data science work. The LightGBM library is used for the gradient boosting machine."
   ]
  },
  {
   "cell_type": "code",
   "execution_count": 17,
   "metadata": {},
   "outputs": [],
   "source": [
    "#pip install --user featuretools"
   ]
  },
  {
   "cell_type": "code",
   "execution_count": 18,
   "metadata": {
    "Collapsed": "false",
    "_cell_guid": "b1076dfc-b9ad-4769-8c92-a6c4dae69d19",
    "_uuid": "8f2839f25d086af736a60e9eeb907d3b93b6e0e5"
   },
   "outputs": [],
   "source": [
    "# pandas and numpy for data manipulation\n",
    "import pandas as pd\n",
    "import numpy as np\n",
    "\n",
    "# featuretools for automated feature engineering\n",
    "import featuretools as ft\n",
    "\n",
    "# matplotlit and seaborn for visualizations\n",
    "import matplotlib.pyplot as plt\n",
    "plt.rcParams['font.size'] = 22\n",
    "import seaborn as sns\n",
    "\n",
    "# Suppress warnings from pandas\n",
    "import warnings\n",
    "warnings.filterwarnings('ignore')\n",
    "\n",
    "# modeling \n",
    "import lightgbm as lgb\n",
    "\n",
    "# utilities\n",
    "from sklearn.model_selection import train_test_split\n",
    "from sklearn.model_selection import KFold\n",
    "from sklearn.metrics import roc_auc_score\n",
    "from sklearn.preprocessing import LabelEncoder\n",
    "\n",
    "# memory management\n",
    "import gc"
   ]
  },
  {
   "cell_type": "markdown",
   "metadata": {
    "Collapsed": "false",
    "_uuid": "06695931219858e57330b8574af5d9028c9e50c2"
   },
   "source": [
    "* `train_bureau` is the training features built manually using the `bureau` and `bureau_balance` data\n",
    "* `train_previous` is the training features built manually using the `previous`, `cash`, `credit`, and `installments` data\n",
    "\n",
    "We first will see how many features we built over the manual engineering process. Here we use a couple of set operations to find the columns that are only in the `bureau`, only in the `previous`, and in both dataframes, indicating that there are `original` features from the `application` dataframe. Here we are working with a small subset of the data in order to not overwhelm the kernel. This code has also been run on the full dataset (we will take a look at some of the results)."
   ]
  },
  {
   "cell_type": "code",
   "execution_count": 19,
   "metadata": {
    "Collapsed": "false",
    "_cell_guid": "79c7e3d0-c299-4dcb-8224-4455121ee9b0",
    "_uuid": "d629ff2d2480ee46fbb7e2d37f6b5fab8052498a"
   },
   "outputs": [],
   "source": [
    "# Read in data\n",
    "train_bureau = pd.read_csv('data_p7/raw/train_bureau_raw.csv', nrows = 1000)\n",
    "test_bureau = pd.read_csv('data_p7/raw/test_bureau_raw.csv', nrows = 1000)\n",
    "\n",
    "train_previous = pd.read_csv('data_p7/raw/train_previous_raw.csv', nrows = 1000)\n",
    "test_previous = pd.read_csv('data_p7/raw/test_previous_raw.csv', nrows = 1000)\n",
    "\n",
    "# All columns in dataframes\n",
    "bureau_columns = list(train_bureau.columns)\n",
    "previous_columns = list(train_previous.columns)"
   ]
  },
  {
   "cell_type": "code",
   "execution_count": 20,
   "metadata": {
    "Collapsed": "false",
    "_uuid": "af78939941b510855d5a972ca24e33037c003977"
   },
   "outputs": [
    {
     "name": "stdout",
     "output_type": "stream",
     "text": [
      "There are 122 original features.\n",
      "There are 211 bureau and bureau balance features.\n",
      "There are 1011 previous Home Credit loan features.\n"
     ]
    }
   ],
   "source": [
    "# Bureau only features\n",
    "bureau_features = list(set(bureau_columns) - set(previous_columns))\n",
    "\n",
    "# Previous only features\n",
    "previous_features = list(set(previous_columns) - set(bureau_columns))\n",
    "\n",
    "# Original features will be in both datasets\n",
    "original_features = list(set(previous_columns) & set(bureau_columns))\n",
    "\n",
    "print('There are %d original features.' % len(original_features))\n",
    "print('There are %d bureau and bureau balance features.' % len(bureau_features))\n",
    "print('There are %d previous Home Credit loan features.' % len(previous_features))"
   ]
  },
  {
   "cell_type": "markdown",
   "metadata": {
    "Collapsed": "false",
    "_uuid": "951caa5d7f4a0033ff4148039d73ba153034cb61"
   },
   "source": [
    "That gives us the number of features in each dataframe. Now we want to combine the data without creating any duplicate rows. "
   ]
  },
  {
   "cell_type": "code",
   "execution_count": 21,
   "metadata": {
    "Collapsed": "false",
    "_uuid": "b0da702050879ddfb8aecc4c23186e7ee97923ba"
   },
   "outputs": [
    {
     "name": "stdout",
     "output_type": "stream",
     "text": [
      "Training shape:  (1000, 1344)\n",
      "Testing shape:  (1000, 1343)\n"
     ]
    }
   ],
   "source": [
    "train_labels = train_bureau['TARGET']\n",
    "previous_features.append('SK_ID_CURR')\n",
    "\n",
    "train_ids = train_bureau['SK_ID_CURR']\n",
    "test_ids = test_bureau['SK_ID_CURR']\n",
    "\n",
    "# Merge the dataframes avoiding duplicating columns by subsetting train_previous\n",
    "train = train_bureau.merge(train_previous[previous_features], on = 'SK_ID_CURR')\n",
    "test = test_bureau.merge(test_previous[previous_features], on = 'SK_ID_CURR')\n",
    "\n",
    "print('Training shape: ', train.shape)\n",
    "print('Testing shape: ', test.shape)"
   ]
  },
  {
   "cell_type": "markdown",
   "metadata": {
    "Collapsed": "false",
    "_uuid": "f20574a7e1edf8fc4398c79fcec85a261edc1c44"
   },
   "source": [
    "Next we want to one-hot encode the dataframes. This doesn't give the full features since we are only working with a sample of the data and this will not create as many columns as one-hot encoding the entire dataset would. Doing this to the full dataset results in 1465 features.\n",
    "\n",
    "An important note in the code cell is where we __align the dataframes by the columns.__ This ensures we have the same columns in the training and testing datasets."
   ]
  },
  {
   "cell_type": "code",
   "execution_count": 22,
   "metadata": {
    "Collapsed": "false",
    "_uuid": "356f67ea6d19d408bc19e1a58ee5f23693a3944a"
   },
   "outputs": [
    {
     "name": "stdout",
     "output_type": "stream",
     "text": [
      "Training shape:  (1000, 1446)\n",
      "Testing shape:  (1000, 1446)\n"
     ]
    }
   ],
   "source": [
    "# One hot encoding\n",
    "train = pd.get_dummies(train)\n",
    "test = pd.get_dummies(test)\n",
    "\n",
    "# Match the columns in the dataframes\n",
    "train, test = train.align(test, join = 'inner', axis = 1)\n",
    "print('Training shape: ', train.shape)\n",
    "print('Testing shape: ', test.shape)"
   ]
  },
  {
   "cell_type": "markdown",
   "metadata": {
    "Collapsed": "false",
    "_uuid": "ecd8a30162d43fe05e14ef93cb88de29f933f8e9"
   },
   "source": [
    "### SK_ID_CURR\n",
    "\n",
    "When doing manual feature engineering, we created some columns derived from the client id, `SK_ID_CURR`. As this is a unique identifier for each client, it should not have any predictive power, and we would not want to build a model trained on this \"feature\". Let's remove any columns built on the `SK_ID_CURR`."
   ]
  },
  {
   "cell_type": "code",
   "execution_count": 23,
   "metadata": {
    "Collapsed": "false",
    "_uuid": "330d43c9cf3e7236fbd4a6852a10efd014b433ce"
   },
   "outputs": [
    {
     "name": "stdout",
     "output_type": "stream",
     "text": [
      "There are 1 columns that contain SK_ID_CURR\n",
      "There are 0 columns that contain SK_ID_BUREAU\n",
      "There are 0 columns that contain SK_ID_PREV\n",
      "Training shape:  (1000, 1445)\n",
      "Testing shape:  (1000, 1445)\n"
     ]
    }
   ],
   "source": [
    "cols_with_id = [x for x in train.columns if 'SK_ID_CURR' in x]\n",
    "cols_with_bureau_id = [x for x in train.columns if 'SK_ID_BUREAU' in x]\n",
    "cols_with_previous_id = [x for x in train.columns if 'SK_ID_PREV' in x]\n",
    "print('There are %d columns that contain SK_ID_CURR' % len(cols_with_id))\n",
    "print('There are %d columns that contain SK_ID_BUREAU' % len(cols_with_bureau_id))\n",
    "print('There are %d columns that contain SK_ID_PREV' % len(cols_with_previous_id))\n",
    "\n",
    "train = train.drop(columns = cols_with_id)\n",
    "test = test.drop(columns = cols_with_id)\n",
    "print('Training shape: ', train.shape)\n",
    "print('Testing shape: ', test.shape)"
   ]
  },
  {
   "cell_type": "markdown",
   "metadata": {
    "Collapsed": "false",
    "_uuid": "d6f0e15b600f90d4062faee276640c371cb655eb"
   },
   "source": [
    "More features might seem like a good thing, and they can be if they help our model learn. However, irrelevant features, highly correlated features, and missing values can prevent the model from learning and decrease generalization performance on the testing data. Therefore, we perform feature selection to keep only the most useful variables.\n",
    "\n",
    "We will start feature selection by focusing on collinear variables."
   ]
  },
  {
   "cell_type": "markdown",
   "metadata": {
    "Collapsed": "false",
    "_uuid": "c402926c8d265ad46e8f9bc5b1683563352cb496"
   },
   "source": [
    "# Remove Collinear Variables\n",
    "\n",
    "Collinear variables are those which are highly correlated with one another. These can decrease the model's availablility to learn, decrease model interpretability, and decrease generalization performance on the test set. Clearly, these are three things we want to increase, so removing collinear variables is a useful step. We will establish an admittedly arbitrary threshold for removing collinear variables, and then remove one out of any pair of variables that is above that threshold. \n",
    "\n",
    "The code below identifies the highly correlated variables based on the absolute magnitude of the Pearson correlation coefficient being greater than 0.9. Again, this is not entirely accurate since we are dealing with such a limited section of the data. This code is for illustration purposes, but if we read in the entire dataset, it would work (if the kernels allowed it)! \n",
    "\n",
    "This code is adapted from [work by Chris Albon](https://chrisalbon.com/machine_learning/feature_selection/drop_highly_correlated_features/)."
   ]
  },
  {
   "cell_type": "markdown",
   "metadata": {
    "Collapsed": "false",
    "_uuid": "5100a4ad6c6586b2637139db8ef4e67df5ad49a8"
   },
   "source": [
    "### Identify Correlated Variables"
   ]
  },
  {
   "cell_type": "code",
   "execution_count": 24,
   "metadata": {
    "Collapsed": "false",
    "_uuid": "59259cf2be69f0c5e699109f9177287599836354"
   },
   "outputs": [
    {
     "data": {
      "text/html": [
       "<div>\n",
       "<style scoped>\n",
       "    .dataframe tbody tr th:only-of-type {\n",
       "        vertical-align: middle;\n",
       "    }\n",
       "\n",
       "    .dataframe tbody tr th {\n",
       "        vertical-align: top;\n",
       "    }\n",
       "\n",
       "    .dataframe thead th {\n",
       "        text-align: right;\n",
       "    }\n",
       "</style>\n",
       "<table border=\"1\" class=\"dataframe\">\n",
       "  <thead>\n",
       "    <tr style=\"text-align: right;\">\n",
       "      <th></th>\n",
       "      <th>CNT_CHILDREN</th>\n",
       "      <th>AMT_INCOME_TOTAL</th>\n",
       "      <th>AMT_CREDIT</th>\n",
       "      <th>AMT_ANNUITY</th>\n",
       "      <th>AMT_GOODS_PRICE</th>\n",
       "      <th>REGION_POPULATION_RELATIVE</th>\n",
       "      <th>DAYS_BIRTH</th>\n",
       "      <th>DAYS_EMPLOYED</th>\n",
       "      <th>DAYS_REGISTRATION</th>\n",
       "      <th>DAYS_ID_PUBLISH</th>\n",
       "      <th>...</th>\n",
       "      <th>HOUSETYPE_MODE_terraced house</th>\n",
       "      <th>WALLSMATERIAL_MODE_Block</th>\n",
       "      <th>WALLSMATERIAL_MODE_Mixed</th>\n",
       "      <th>WALLSMATERIAL_MODE_Monolithic</th>\n",
       "      <th>WALLSMATERIAL_MODE_Others</th>\n",
       "      <th>WALLSMATERIAL_MODE_Panel</th>\n",
       "      <th>WALLSMATERIAL_MODE_Stone, brick</th>\n",
       "      <th>WALLSMATERIAL_MODE_Wooden</th>\n",
       "      <th>EMERGENCYSTATE_MODE_No</th>\n",
       "      <th>EMERGENCYSTATE_MODE_Yes</th>\n",
       "    </tr>\n",
       "  </thead>\n",
       "  <tbody>\n",
       "    <tr>\n",
       "      <th>CNT_CHILDREN</th>\n",
       "      <td>1.000000</td>\n",
       "      <td>0.055960</td>\n",
       "      <td>0.036836</td>\n",
       "      <td>0.055732</td>\n",
       "      <td>0.035851</td>\n",
       "      <td>0.060210</td>\n",
       "      <td>0.303782</td>\n",
       "      <td>0.218535</td>\n",
       "      <td>0.211766</td>\n",
       "      <td>0.036960</td>\n",
       "      <td>...</td>\n",
       "      <td>0.096914</td>\n",
       "      <td>0.064817</td>\n",
       "      <td>0.024544</td>\n",
       "      <td>0.019465</td>\n",
       "      <td>0.005586</td>\n",
       "      <td>0.030986</td>\n",
       "      <td>0.001443</td>\n",
       "      <td>0.027967</td>\n",
       "      <td>0.004500</td>\n",
       "      <td>0.020465</td>\n",
       "    </tr>\n",
       "    <tr>\n",
       "      <th>AMT_INCOME_TOTAL</th>\n",
       "      <td>0.055960</td>\n",
       "      <td>1.000000</td>\n",
       "      <td>0.429317</td>\n",
       "      <td>0.491143</td>\n",
       "      <td>0.439981</td>\n",
       "      <td>0.184339</td>\n",
       "      <td>0.088743</td>\n",
       "      <td>0.208663</td>\n",
       "      <td>0.130682</td>\n",
       "      <td>0.045634</td>\n",
       "      <td>...</td>\n",
       "      <td>0.033574</td>\n",
       "      <td>0.064520</td>\n",
       "      <td>0.020186</td>\n",
       "      <td>0.058210</td>\n",
       "      <td>0.060465</td>\n",
       "      <td>0.080291</td>\n",
       "      <td>0.000218</td>\n",
       "      <td>0.043426</td>\n",
       "      <td>0.107476</td>\n",
       "      <td>0.030645</td>\n",
       "    </tr>\n",
       "    <tr>\n",
       "      <th>AMT_CREDIT</th>\n",
       "      <td>0.036836</td>\n",
       "      <td>0.429317</td>\n",
       "      <td>1.000000</td>\n",
       "      <td>0.797209</td>\n",
       "      <td>0.986046</td>\n",
       "      <td>0.074287</td>\n",
       "      <td>0.065100</td>\n",
       "      <td>0.116515</td>\n",
       "      <td>0.027876</td>\n",
       "      <td>0.022994</td>\n",
       "      <td>...</td>\n",
       "      <td>0.005136</td>\n",
       "      <td>0.011202</td>\n",
       "      <td>0.007313</td>\n",
       "      <td>0.060005</td>\n",
       "      <td>0.009795</td>\n",
       "      <td>0.098314</td>\n",
       "      <td>0.018123</td>\n",
       "      <td>0.009507</td>\n",
       "      <td>0.075595</td>\n",
       "      <td>0.009483</td>\n",
       "    </tr>\n",
       "    <tr>\n",
       "      <th>AMT_ANNUITY</th>\n",
       "      <td>0.055732</td>\n",
       "      <td>0.491143</td>\n",
       "      <td>0.797209</td>\n",
       "      <td>1.000000</td>\n",
       "      <td>0.799121</td>\n",
       "      <td>0.106685</td>\n",
       "      <td>0.019480</td>\n",
       "      <td>0.139220</td>\n",
       "      <td>0.059163</td>\n",
       "      <td>0.024020</td>\n",
       "      <td>...</td>\n",
       "      <td>0.011107</td>\n",
       "      <td>0.022890</td>\n",
       "      <td>0.017907</td>\n",
       "      <td>0.084270</td>\n",
       "      <td>0.022107</td>\n",
       "      <td>0.133969</td>\n",
       "      <td>0.036801</td>\n",
       "      <td>0.032497</td>\n",
       "      <td>0.098291</td>\n",
       "      <td>0.036308</td>\n",
       "    </tr>\n",
       "    <tr>\n",
       "      <th>AMT_GOODS_PRICE</th>\n",
       "      <td>0.035851</td>\n",
       "      <td>0.439981</td>\n",
       "      <td>0.986046</td>\n",
       "      <td>0.799121</td>\n",
       "      <td>1.000000</td>\n",
       "      <td>0.073531</td>\n",
       "      <td>0.058535</td>\n",
       "      <td>0.115613</td>\n",
       "      <td>0.034500</td>\n",
       "      <td>0.030878</td>\n",
       "      <td>...</td>\n",
       "      <td>0.002397</td>\n",
       "      <td>0.020737</td>\n",
       "      <td>0.000716</td>\n",
       "      <td>0.069845</td>\n",
       "      <td>0.014077</td>\n",
       "      <td>0.094081</td>\n",
       "      <td>0.012866</td>\n",
       "      <td>0.019114</td>\n",
       "      <td>0.082543</td>\n",
       "      <td>0.000395</td>\n",
       "    </tr>\n",
       "  </tbody>\n",
       "</table>\n",
       "<p>5 rows × 1445 columns</p>\n",
       "</div>"
      ],
      "text/plain": [
       "                  CNT_CHILDREN  AMT_INCOME_TOTAL  AMT_CREDIT  AMT_ANNUITY  \\\n",
       "CNT_CHILDREN          1.000000          0.055960    0.036836     0.055732   \n",
       "AMT_INCOME_TOTAL      0.055960          1.000000    0.429317     0.491143   \n",
       "AMT_CREDIT            0.036836          0.429317    1.000000     0.797209   \n",
       "AMT_ANNUITY           0.055732          0.491143    0.797209     1.000000   \n",
       "AMT_GOODS_PRICE       0.035851          0.439981    0.986046     0.799121   \n",
       "\n",
       "                  AMT_GOODS_PRICE  REGION_POPULATION_RELATIVE  DAYS_BIRTH  \\\n",
       "CNT_CHILDREN             0.035851                    0.060210    0.303782   \n",
       "AMT_INCOME_TOTAL         0.439981                    0.184339    0.088743   \n",
       "AMT_CREDIT               0.986046                    0.074287    0.065100   \n",
       "AMT_ANNUITY              0.799121                    0.106685    0.019480   \n",
       "AMT_GOODS_PRICE          1.000000                    0.073531    0.058535   \n",
       "\n",
       "                  DAYS_EMPLOYED  DAYS_REGISTRATION  DAYS_ID_PUBLISH  ...  \\\n",
       "CNT_CHILDREN           0.218535           0.211766         0.036960  ...   \n",
       "AMT_INCOME_TOTAL       0.208663           0.130682         0.045634  ...   \n",
       "AMT_CREDIT             0.116515           0.027876         0.022994  ...   \n",
       "AMT_ANNUITY            0.139220           0.059163         0.024020  ...   \n",
       "AMT_GOODS_PRICE        0.115613           0.034500         0.030878  ...   \n",
       "\n",
       "                  HOUSETYPE_MODE_terraced house  WALLSMATERIAL_MODE_Block  \\\n",
       "CNT_CHILDREN                           0.096914                  0.064817   \n",
       "AMT_INCOME_TOTAL                       0.033574                  0.064520   \n",
       "AMT_CREDIT                             0.005136                  0.011202   \n",
       "AMT_ANNUITY                            0.011107                  0.022890   \n",
       "AMT_GOODS_PRICE                        0.002397                  0.020737   \n",
       "\n",
       "                  WALLSMATERIAL_MODE_Mixed  WALLSMATERIAL_MODE_Monolithic  \\\n",
       "CNT_CHILDREN                      0.024544                       0.019465   \n",
       "AMT_INCOME_TOTAL                  0.020186                       0.058210   \n",
       "AMT_CREDIT                        0.007313                       0.060005   \n",
       "AMT_ANNUITY                       0.017907                       0.084270   \n",
       "AMT_GOODS_PRICE                   0.000716                       0.069845   \n",
       "\n",
       "                  WALLSMATERIAL_MODE_Others  WALLSMATERIAL_MODE_Panel  \\\n",
       "CNT_CHILDREN                       0.005586                  0.030986   \n",
       "AMT_INCOME_TOTAL                   0.060465                  0.080291   \n",
       "AMT_CREDIT                         0.009795                  0.098314   \n",
       "AMT_ANNUITY                        0.022107                  0.133969   \n",
       "AMT_GOODS_PRICE                    0.014077                  0.094081   \n",
       "\n",
       "                  WALLSMATERIAL_MODE_Stone, brick  WALLSMATERIAL_MODE_Wooden  \\\n",
       "CNT_CHILDREN                             0.001443                   0.027967   \n",
       "AMT_INCOME_TOTAL                         0.000218                   0.043426   \n",
       "AMT_CREDIT                               0.018123                   0.009507   \n",
       "AMT_ANNUITY                              0.036801                   0.032497   \n",
       "AMT_GOODS_PRICE                          0.012866                   0.019114   \n",
       "\n",
       "                  EMERGENCYSTATE_MODE_No  EMERGENCYSTATE_MODE_Yes  \n",
       "CNT_CHILDREN                    0.004500                 0.020465  \n",
       "AMT_INCOME_TOTAL                0.107476                 0.030645  \n",
       "AMT_CREDIT                      0.075595                 0.009483  \n",
       "AMT_ANNUITY                     0.098291                 0.036308  \n",
       "AMT_GOODS_PRICE                 0.082543                 0.000395  \n",
       "\n",
       "[5 rows x 1445 columns]"
      ]
     },
     "execution_count": 24,
     "metadata": {},
     "output_type": "execute_result"
    }
   ],
   "source": [
    "# Threshold for removing correlated variables\n",
    "threshold = 0.9\n",
    "\n",
    "# Absolute value correlation matrix\n",
    "corr_matrix = train.corr().abs()\n",
    "corr_matrix.head()"
   ]
  },
  {
   "cell_type": "code",
   "execution_count": 25,
   "metadata": {
    "Collapsed": "false",
    "_uuid": "7c33392948540b626cf213fa6dea316766627eb9"
   },
   "outputs": [
    {
     "data": {
      "text/html": [
       "<div>\n",
       "<style scoped>\n",
       "    .dataframe tbody tr th:only-of-type {\n",
       "        vertical-align: middle;\n",
       "    }\n",
       "\n",
       "    .dataframe tbody tr th {\n",
       "        vertical-align: top;\n",
       "    }\n",
       "\n",
       "    .dataframe thead th {\n",
       "        text-align: right;\n",
       "    }\n",
       "</style>\n",
       "<table border=\"1\" class=\"dataframe\">\n",
       "  <thead>\n",
       "    <tr style=\"text-align: right;\">\n",
       "      <th></th>\n",
       "      <th>CNT_CHILDREN</th>\n",
       "      <th>AMT_INCOME_TOTAL</th>\n",
       "      <th>AMT_CREDIT</th>\n",
       "      <th>AMT_ANNUITY</th>\n",
       "      <th>AMT_GOODS_PRICE</th>\n",
       "      <th>REGION_POPULATION_RELATIVE</th>\n",
       "      <th>DAYS_BIRTH</th>\n",
       "      <th>DAYS_EMPLOYED</th>\n",
       "      <th>DAYS_REGISTRATION</th>\n",
       "      <th>DAYS_ID_PUBLISH</th>\n",
       "      <th>...</th>\n",
       "      <th>HOUSETYPE_MODE_terraced house</th>\n",
       "      <th>WALLSMATERIAL_MODE_Block</th>\n",
       "      <th>WALLSMATERIAL_MODE_Mixed</th>\n",
       "      <th>WALLSMATERIAL_MODE_Monolithic</th>\n",
       "      <th>WALLSMATERIAL_MODE_Others</th>\n",
       "      <th>WALLSMATERIAL_MODE_Panel</th>\n",
       "      <th>WALLSMATERIAL_MODE_Stone, brick</th>\n",
       "      <th>WALLSMATERIAL_MODE_Wooden</th>\n",
       "      <th>EMERGENCYSTATE_MODE_No</th>\n",
       "      <th>EMERGENCYSTATE_MODE_Yes</th>\n",
       "    </tr>\n",
       "  </thead>\n",
       "  <tbody>\n",
       "    <tr>\n",
       "      <th>CNT_CHILDREN</th>\n",
       "      <td>NaN</td>\n",
       "      <td>0.05596</td>\n",
       "      <td>0.036836</td>\n",
       "      <td>0.055732</td>\n",
       "      <td>0.035851</td>\n",
       "      <td>0.060210</td>\n",
       "      <td>0.303782</td>\n",
       "      <td>0.218535</td>\n",
       "      <td>0.211766</td>\n",
       "      <td>0.036960</td>\n",
       "      <td>...</td>\n",
       "      <td>0.096914</td>\n",
       "      <td>0.064817</td>\n",
       "      <td>0.024544</td>\n",
       "      <td>0.019465</td>\n",
       "      <td>0.005586</td>\n",
       "      <td>0.030986</td>\n",
       "      <td>0.001443</td>\n",
       "      <td>0.027967</td>\n",
       "      <td>0.004500</td>\n",
       "      <td>0.020465</td>\n",
       "    </tr>\n",
       "    <tr>\n",
       "      <th>AMT_INCOME_TOTAL</th>\n",
       "      <td>NaN</td>\n",
       "      <td>NaN</td>\n",
       "      <td>0.429317</td>\n",
       "      <td>0.491143</td>\n",
       "      <td>0.439981</td>\n",
       "      <td>0.184339</td>\n",
       "      <td>0.088743</td>\n",
       "      <td>0.208663</td>\n",
       "      <td>0.130682</td>\n",
       "      <td>0.045634</td>\n",
       "      <td>...</td>\n",
       "      <td>0.033574</td>\n",
       "      <td>0.064520</td>\n",
       "      <td>0.020186</td>\n",
       "      <td>0.058210</td>\n",
       "      <td>0.060465</td>\n",
       "      <td>0.080291</td>\n",
       "      <td>0.000218</td>\n",
       "      <td>0.043426</td>\n",
       "      <td>0.107476</td>\n",
       "      <td>0.030645</td>\n",
       "    </tr>\n",
       "    <tr>\n",
       "      <th>AMT_CREDIT</th>\n",
       "      <td>NaN</td>\n",
       "      <td>NaN</td>\n",
       "      <td>NaN</td>\n",
       "      <td>0.797209</td>\n",
       "      <td>0.986046</td>\n",
       "      <td>0.074287</td>\n",
       "      <td>0.065100</td>\n",
       "      <td>0.116515</td>\n",
       "      <td>0.027876</td>\n",
       "      <td>0.022994</td>\n",
       "      <td>...</td>\n",
       "      <td>0.005136</td>\n",
       "      <td>0.011202</td>\n",
       "      <td>0.007313</td>\n",
       "      <td>0.060005</td>\n",
       "      <td>0.009795</td>\n",
       "      <td>0.098314</td>\n",
       "      <td>0.018123</td>\n",
       "      <td>0.009507</td>\n",
       "      <td>0.075595</td>\n",
       "      <td>0.009483</td>\n",
       "    </tr>\n",
       "    <tr>\n",
       "      <th>AMT_ANNUITY</th>\n",
       "      <td>NaN</td>\n",
       "      <td>NaN</td>\n",
       "      <td>NaN</td>\n",
       "      <td>NaN</td>\n",
       "      <td>0.799121</td>\n",
       "      <td>0.106685</td>\n",
       "      <td>0.019480</td>\n",
       "      <td>0.139220</td>\n",
       "      <td>0.059163</td>\n",
       "      <td>0.024020</td>\n",
       "      <td>...</td>\n",
       "      <td>0.011107</td>\n",
       "      <td>0.022890</td>\n",
       "      <td>0.017907</td>\n",
       "      <td>0.084270</td>\n",
       "      <td>0.022107</td>\n",
       "      <td>0.133969</td>\n",
       "      <td>0.036801</td>\n",
       "      <td>0.032497</td>\n",
       "      <td>0.098291</td>\n",
       "      <td>0.036308</td>\n",
       "    </tr>\n",
       "    <tr>\n",
       "      <th>AMT_GOODS_PRICE</th>\n",
       "      <td>NaN</td>\n",
       "      <td>NaN</td>\n",
       "      <td>NaN</td>\n",
       "      <td>NaN</td>\n",
       "      <td>NaN</td>\n",
       "      <td>0.073531</td>\n",
       "      <td>0.058535</td>\n",
       "      <td>0.115613</td>\n",
       "      <td>0.034500</td>\n",
       "      <td>0.030878</td>\n",
       "      <td>...</td>\n",
       "      <td>0.002397</td>\n",
       "      <td>0.020737</td>\n",
       "      <td>0.000716</td>\n",
       "      <td>0.069845</td>\n",
       "      <td>0.014077</td>\n",
       "      <td>0.094081</td>\n",
       "      <td>0.012866</td>\n",
       "      <td>0.019114</td>\n",
       "      <td>0.082543</td>\n",
       "      <td>0.000395</td>\n",
       "    </tr>\n",
       "  </tbody>\n",
       "</table>\n",
       "<p>5 rows × 1445 columns</p>\n",
       "</div>"
      ],
      "text/plain": [
       "                  CNT_CHILDREN  AMT_INCOME_TOTAL  AMT_CREDIT  AMT_ANNUITY  \\\n",
       "CNT_CHILDREN               NaN           0.05596    0.036836     0.055732   \n",
       "AMT_INCOME_TOTAL           NaN               NaN    0.429317     0.491143   \n",
       "AMT_CREDIT                 NaN               NaN         NaN     0.797209   \n",
       "AMT_ANNUITY                NaN               NaN         NaN          NaN   \n",
       "AMT_GOODS_PRICE            NaN               NaN         NaN          NaN   \n",
       "\n",
       "                  AMT_GOODS_PRICE  REGION_POPULATION_RELATIVE  DAYS_BIRTH  \\\n",
       "CNT_CHILDREN             0.035851                    0.060210    0.303782   \n",
       "AMT_INCOME_TOTAL         0.439981                    0.184339    0.088743   \n",
       "AMT_CREDIT               0.986046                    0.074287    0.065100   \n",
       "AMT_ANNUITY              0.799121                    0.106685    0.019480   \n",
       "AMT_GOODS_PRICE               NaN                    0.073531    0.058535   \n",
       "\n",
       "                  DAYS_EMPLOYED  DAYS_REGISTRATION  DAYS_ID_PUBLISH  ...  \\\n",
       "CNT_CHILDREN           0.218535           0.211766         0.036960  ...   \n",
       "AMT_INCOME_TOTAL       0.208663           0.130682         0.045634  ...   \n",
       "AMT_CREDIT             0.116515           0.027876         0.022994  ...   \n",
       "AMT_ANNUITY            0.139220           0.059163         0.024020  ...   \n",
       "AMT_GOODS_PRICE        0.115613           0.034500         0.030878  ...   \n",
       "\n",
       "                  HOUSETYPE_MODE_terraced house  WALLSMATERIAL_MODE_Block  \\\n",
       "CNT_CHILDREN                           0.096914                  0.064817   \n",
       "AMT_INCOME_TOTAL                       0.033574                  0.064520   \n",
       "AMT_CREDIT                             0.005136                  0.011202   \n",
       "AMT_ANNUITY                            0.011107                  0.022890   \n",
       "AMT_GOODS_PRICE                        0.002397                  0.020737   \n",
       "\n",
       "                  WALLSMATERIAL_MODE_Mixed  WALLSMATERIAL_MODE_Monolithic  \\\n",
       "CNT_CHILDREN                      0.024544                       0.019465   \n",
       "AMT_INCOME_TOTAL                  0.020186                       0.058210   \n",
       "AMT_CREDIT                        0.007313                       0.060005   \n",
       "AMT_ANNUITY                       0.017907                       0.084270   \n",
       "AMT_GOODS_PRICE                   0.000716                       0.069845   \n",
       "\n",
       "                  WALLSMATERIAL_MODE_Others  WALLSMATERIAL_MODE_Panel  \\\n",
       "CNT_CHILDREN                       0.005586                  0.030986   \n",
       "AMT_INCOME_TOTAL                   0.060465                  0.080291   \n",
       "AMT_CREDIT                         0.009795                  0.098314   \n",
       "AMT_ANNUITY                        0.022107                  0.133969   \n",
       "AMT_GOODS_PRICE                    0.014077                  0.094081   \n",
       "\n",
       "                  WALLSMATERIAL_MODE_Stone, brick  WALLSMATERIAL_MODE_Wooden  \\\n",
       "CNT_CHILDREN                             0.001443                   0.027967   \n",
       "AMT_INCOME_TOTAL                         0.000218                   0.043426   \n",
       "AMT_CREDIT                               0.018123                   0.009507   \n",
       "AMT_ANNUITY                              0.036801                   0.032497   \n",
       "AMT_GOODS_PRICE                          0.012866                   0.019114   \n",
       "\n",
       "                  EMERGENCYSTATE_MODE_No  EMERGENCYSTATE_MODE_Yes  \n",
       "CNT_CHILDREN                    0.004500                 0.020465  \n",
       "AMT_INCOME_TOTAL                0.107476                 0.030645  \n",
       "AMT_CREDIT                      0.075595                 0.009483  \n",
       "AMT_ANNUITY                     0.098291                 0.036308  \n",
       "AMT_GOODS_PRICE                 0.082543                 0.000395  \n",
       "\n",
       "[5 rows x 1445 columns]"
      ]
     },
     "execution_count": 25,
     "metadata": {},
     "output_type": "execute_result"
    }
   ],
   "source": [
    "# Upper triangle of correlations\n",
    "upper = corr_matrix.where(np.triu(np.ones(corr_matrix.shape), k=1).astype(np.bool))\n",
    "upper.head()"
   ]
  },
  {
   "cell_type": "code",
   "execution_count": 26,
   "metadata": {
    "Collapsed": "false",
    "_uuid": "1517d554f80a8eed2c0e03303fe7d1fb4a469131"
   },
   "outputs": [
    {
     "name": "stdout",
     "output_type": "stream",
     "text": [
      "There are 648 columns to remove.\n"
     ]
    }
   ],
   "source": [
    "# Select columns with correlations above threshold\n",
    "to_drop = [column for column in upper.columns if any(upper[column] > threshold)]\n",
    "\n",
    "print('There are %d columns to remove.' % (len(to_drop)))"
   ]
  },
  {
   "cell_type": "markdown",
   "metadata": {
    "Collapsed": "false",
    "_uuid": "fc6bf1f1a4c98749727522bb5a3ae89adf145f8d"
   },
   "source": [
    "#### Drop Correlated Variables"
   ]
  },
  {
   "cell_type": "code",
   "execution_count": 27,
   "metadata": {
    "Collapsed": "false",
    "_uuid": "2c18834968dac305317a5a881308a0c9a3cce353"
   },
   "outputs": [
    {
     "name": "stdout",
     "output_type": "stream",
     "text": [
      "Training shape:  (1000, 797)\n",
      "Testing shape:  (1000, 797)\n"
     ]
    }
   ],
   "source": [
    "train = train.drop(columns = to_drop)\n",
    "test = test.drop(columns = to_drop)\n",
    "\n",
    "print('Training shape: ', train.shape)\n",
    "print('Testing shape: ', test.shape)"
   ]
  },
  {
   "cell_type": "markdown",
   "metadata": {
    "Collapsed": "false",
    "_uuid": "52eada9c579b09cc97c338ea372554aa8d52f9df"
   },
   "source": [
    "Applying this on the entire dataset __results in 797  collinear features__ removed.  \n",
    "\n",
    "This has reduced the number of features singificantly, but it is likely still too many. At this point, we'll read in the full dataset after removing correlated variables for further feature selection.\n",
    "\n",
    "The full datasets (after removing correlated variables) are available in `train_bureau_corrs_removed.csv` and `test_bureau_corrs_removed.csv`."
   ]
  },
  {
   "cell_type": "markdown",
   "metadata": {
    "Collapsed": "false",
    "_uuid": "15973fdfb3169e1d816136c68764c80d1368000e"
   },
   "source": [
    "### Read in Full Dataset\n",
    "\n",
    "Now we are ready to move on to the full set of features. These were built by applying the above steps to the entire `train_bureau` and `train_previous` files (you can do the same if you want and have the computational resources)!"
   ]
  },
  {
   "cell_type": "code",
   "execution_count": 28,
   "metadata": {
    "Collapsed": "false",
    "_uuid": "e8384e3033ee466ab3c426d8330822e974ad3c1b"
   },
   "outputs": [],
   "source": [
    "train = pd.read_csv('data_p7/raw/train_bureau_corrs_removed.csv')\n",
    "test = pd.read_csv('data_p7/raw/test_bureau_corrs_removed.csv')"
   ]
  },
  {
   "cell_type": "code",
   "execution_count": 29,
   "metadata": {
    "Collapsed": "false",
    "_uuid": "18d3be4bd305a82d6bba1c2a6b7d2876abb098d9"
   },
   "outputs": [
    {
     "name": "stdout",
     "output_type": "stream",
     "text": [
      "Training set full shape:  (307511, 199)\n",
      "Testing set full shape:  (48744, 198)\n"
     ]
    }
   ],
   "source": [
    "print('Training set full shape: ', train.shape)\n",
    "print('Testing set full shape: ' , test.shape)"
   ]
  },
  {
   "cell_type": "code",
   "execution_count": 30,
   "metadata": {
    "Collapsed": "false"
   },
   "outputs": [
    {
     "data": {
      "text/html": [
       "<div>\n",
       "<style scoped>\n",
       "    .dataframe tbody tr th:only-of-type {\n",
       "        vertical-align: middle;\n",
       "    }\n",
       "\n",
       "    .dataframe tbody tr th {\n",
       "        vertical-align: top;\n",
       "    }\n",
       "\n",
       "    .dataframe thead th {\n",
       "        text-align: right;\n",
       "    }\n",
       "</style>\n",
       "<table border=\"1\" class=\"dataframe\">\n",
       "  <thead>\n",
       "    <tr style=\"text-align: right;\">\n",
       "      <th></th>\n",
       "      <th>SK_ID_CURR</th>\n",
       "      <th>NAME_CONTRACT_TYPE</th>\n",
       "      <th>CODE_GENDER</th>\n",
       "      <th>FLAG_OWN_CAR</th>\n",
       "      <th>FLAG_OWN_REALTY</th>\n",
       "      <th>CNT_CHILDREN</th>\n",
       "      <th>AMT_INCOME_TOTAL</th>\n",
       "      <th>AMT_CREDIT</th>\n",
       "      <th>AMT_ANNUITY</th>\n",
       "      <th>NAME_TYPE_SUITE</th>\n",
       "      <th>...</th>\n",
       "      <th>client_bureau_balance_STATUS_C_count_mean</th>\n",
       "      <th>client_bureau_balance_STATUS_C_count_min</th>\n",
       "      <th>client_bureau_balance_STATUS_C_count_norm_max</th>\n",
       "      <th>client_bureau_balance_STATUS_X_count_mean</th>\n",
       "      <th>client_bureau_balance_STATUS_X_count_max</th>\n",
       "      <th>client_bureau_balance_STATUS_X_count_min</th>\n",
       "      <th>client_bureau_balance_STATUS_X_count_norm_mean</th>\n",
       "      <th>client_bureau_balance_STATUS_X_count_norm_max</th>\n",
       "      <th>client_bureau_balance_STATUS_X_count_norm_min</th>\n",
       "      <th>TARGET</th>\n",
       "    </tr>\n",
       "  </thead>\n",
       "  <tbody>\n",
       "    <tr>\n",
       "      <th>0</th>\n",
       "      <td>100002</td>\n",
       "      <td>Cash loans</td>\n",
       "      <td>M</td>\n",
       "      <td>N</td>\n",
       "      <td>Y</td>\n",
       "      <td>0</td>\n",
       "      <td>202500.0</td>\n",
       "      <td>406597.5</td>\n",
       "      <td>24700.5</td>\n",
       "      <td>Unaccompanied</td>\n",
       "      <td>...</td>\n",
       "      <td>2.875</td>\n",
       "      <td>0.0</td>\n",
       "      <td>0.8125</td>\n",
       "      <td>1.875</td>\n",
       "      <td>3.0</td>\n",
       "      <td>0.0</td>\n",
       "      <td>0.161932</td>\n",
       "      <td>0.5</td>\n",
       "      <td>0.0</td>\n",
       "      <td>1</td>\n",
       "    </tr>\n",
       "    <tr>\n",
       "      <th>1</th>\n",
       "      <td>100003</td>\n",
       "      <td>Cash loans</td>\n",
       "      <td>F</td>\n",
       "      <td>N</td>\n",
       "      <td>N</td>\n",
       "      <td>0</td>\n",
       "      <td>270000.0</td>\n",
       "      <td>1293502.5</td>\n",
       "      <td>35698.5</td>\n",
       "      <td>Family</td>\n",
       "      <td>...</td>\n",
       "      <td>NaN</td>\n",
       "      <td>NaN</td>\n",
       "      <td>NaN</td>\n",
       "      <td>NaN</td>\n",
       "      <td>NaN</td>\n",
       "      <td>NaN</td>\n",
       "      <td>NaN</td>\n",
       "      <td>NaN</td>\n",
       "      <td>NaN</td>\n",
       "      <td>0</td>\n",
       "    </tr>\n",
       "    <tr>\n",
       "      <th>2</th>\n",
       "      <td>100004</td>\n",
       "      <td>Revolving loans</td>\n",
       "      <td>M</td>\n",
       "      <td>Y</td>\n",
       "      <td>Y</td>\n",
       "      <td>0</td>\n",
       "      <td>67500.0</td>\n",
       "      <td>135000.0</td>\n",
       "      <td>6750.0</td>\n",
       "      <td>Unaccompanied</td>\n",
       "      <td>...</td>\n",
       "      <td>NaN</td>\n",
       "      <td>NaN</td>\n",
       "      <td>NaN</td>\n",
       "      <td>NaN</td>\n",
       "      <td>NaN</td>\n",
       "      <td>NaN</td>\n",
       "      <td>NaN</td>\n",
       "      <td>NaN</td>\n",
       "      <td>NaN</td>\n",
       "      <td>0</td>\n",
       "    </tr>\n",
       "    <tr>\n",
       "      <th>3</th>\n",
       "      <td>100006</td>\n",
       "      <td>Cash loans</td>\n",
       "      <td>F</td>\n",
       "      <td>N</td>\n",
       "      <td>Y</td>\n",
       "      <td>0</td>\n",
       "      <td>135000.0</td>\n",
       "      <td>312682.5</td>\n",
       "      <td>29686.5</td>\n",
       "      <td>Unaccompanied</td>\n",
       "      <td>...</td>\n",
       "      <td>NaN</td>\n",
       "      <td>NaN</td>\n",
       "      <td>NaN</td>\n",
       "      <td>NaN</td>\n",
       "      <td>NaN</td>\n",
       "      <td>NaN</td>\n",
       "      <td>NaN</td>\n",
       "      <td>NaN</td>\n",
       "      <td>NaN</td>\n",
       "      <td>0</td>\n",
       "    </tr>\n",
       "    <tr>\n",
       "      <th>4</th>\n",
       "      <td>100007</td>\n",
       "      <td>Cash loans</td>\n",
       "      <td>M</td>\n",
       "      <td>N</td>\n",
       "      <td>Y</td>\n",
       "      <td>0</td>\n",
       "      <td>121500.0</td>\n",
       "      <td>513000.0</td>\n",
       "      <td>21865.5</td>\n",
       "      <td>Unaccompanied</td>\n",
       "      <td>...</td>\n",
       "      <td>NaN</td>\n",
       "      <td>NaN</td>\n",
       "      <td>NaN</td>\n",
       "      <td>NaN</td>\n",
       "      <td>NaN</td>\n",
       "      <td>NaN</td>\n",
       "      <td>NaN</td>\n",
       "      <td>NaN</td>\n",
       "      <td>NaN</td>\n",
       "      <td>0</td>\n",
       "    </tr>\n",
       "  </tbody>\n",
       "</table>\n",
       "<p>5 rows × 199 columns</p>\n",
       "</div>"
      ],
      "text/plain": [
       "   SK_ID_CURR NAME_CONTRACT_TYPE CODE_GENDER FLAG_OWN_CAR FLAG_OWN_REALTY  \\\n",
       "0      100002         Cash loans           M            N               Y   \n",
       "1      100003         Cash loans           F            N               N   \n",
       "2      100004    Revolving loans           M            Y               Y   \n",
       "3      100006         Cash loans           F            N               Y   \n",
       "4      100007         Cash loans           M            N               Y   \n",
       "\n",
       "   CNT_CHILDREN  AMT_INCOME_TOTAL  AMT_CREDIT  AMT_ANNUITY NAME_TYPE_SUITE  \\\n",
       "0             0          202500.0    406597.5      24700.5   Unaccompanied   \n",
       "1             0          270000.0   1293502.5      35698.5          Family   \n",
       "2             0           67500.0    135000.0       6750.0   Unaccompanied   \n",
       "3             0          135000.0    312682.5      29686.5   Unaccompanied   \n",
       "4             0          121500.0    513000.0      21865.5   Unaccompanied   \n",
       "\n",
       "   ... client_bureau_balance_STATUS_C_count_mean  \\\n",
       "0  ...                                     2.875   \n",
       "1  ...                                       NaN   \n",
       "2  ...                                       NaN   \n",
       "3  ...                                       NaN   \n",
       "4  ...                                       NaN   \n",
       "\n",
       "  client_bureau_balance_STATUS_C_count_min  \\\n",
       "0                                      0.0   \n",
       "1                                      NaN   \n",
       "2                                      NaN   \n",
       "3                                      NaN   \n",
       "4                                      NaN   \n",
       "\n",
       "  client_bureau_balance_STATUS_C_count_norm_max  \\\n",
       "0                                        0.8125   \n",
       "1                                           NaN   \n",
       "2                                           NaN   \n",
       "3                                           NaN   \n",
       "4                                           NaN   \n",
       "\n",
       "  client_bureau_balance_STATUS_X_count_mean  \\\n",
       "0                                     1.875   \n",
       "1                                       NaN   \n",
       "2                                       NaN   \n",
       "3                                       NaN   \n",
       "4                                       NaN   \n",
       "\n",
       "   client_bureau_balance_STATUS_X_count_max  \\\n",
       "0                                       3.0   \n",
       "1                                       NaN   \n",
       "2                                       NaN   \n",
       "3                                       NaN   \n",
       "4                                       NaN   \n",
       "\n",
       "   client_bureau_balance_STATUS_X_count_min  \\\n",
       "0                                       0.0   \n",
       "1                                       NaN   \n",
       "2                                       NaN   \n",
       "3                                       NaN   \n",
       "4                                       NaN   \n",
       "\n",
       "   client_bureau_balance_STATUS_X_count_norm_mean  \\\n",
       "0                                        0.161932   \n",
       "1                                             NaN   \n",
       "2                                             NaN   \n",
       "3                                             NaN   \n",
       "4                                             NaN   \n",
       "\n",
       "   client_bureau_balance_STATUS_X_count_norm_max  \\\n",
       "0                                            0.5   \n",
       "1                                            NaN   \n",
       "2                                            NaN   \n",
       "3                                            NaN   \n",
       "4                                            NaN   \n",
       "\n",
       "   client_bureau_balance_STATUS_X_count_norm_min  TARGET  \n",
       "0                                            0.0       1  \n",
       "1                                            NaN       0  \n",
       "2                                            NaN       0  \n",
       "3                                            NaN       0  \n",
       "4                                            NaN       0  \n",
       "\n",
       "[5 rows x 199 columns]"
      ]
     },
     "execution_count": 30,
     "metadata": {},
     "output_type": "execute_result"
    }
   ],
   "source": [
    "train.head()"
   ]
  },
  {
   "cell_type": "markdown",
   "metadata": {
    "Collapsed": "false",
    "_uuid": "e9c652ca3eb3a8770195469abf77ad71d15b3fe0"
   },
   "source": [
    "# Remove Missing Values\n",
    "\n",
    "A relatively simple choice of feature selection is removing missing values. Well, it seems simple, at least until we have to decide what percentage of missing values is the minimum threshold for removing a column. Like many choices in machine learning, there is no right answer, and not even a general rule of thumb for making this choice. In this implementation, if any columns have greater than 75% missing values, they will be removed. \n",
    "\n",
    "Most models (including those in Sk-Learn) cannot handle missing values, so we will have to fill these in before machine learning. The Gradient Boosting Machine ([at least in LightGBM](https://github.com/Microsoft/LightGBM/blob/master/docs/Advanced-Topics.rst)) can handle missing values. Imputing missing values always makes me a little uncomfortable because we are adding information that actually isn't in the dataset. Since we are going to be evaluating several models (in a later notebook), we will have to use some form of imputation. For now, we will focus on removing columns above the threshold."
   ]
  },
  {
   "cell_type": "code",
   "execution_count": 31,
   "metadata": {
    "Collapsed": "false",
    "_uuid": "7849b6e3f53cd08850e9e5797e7256b08a823acb"
   },
   "outputs": [
    {
     "data": {
      "text/plain": [
       "bureau_AMT_ANNUITY_mean                           0.739817\n",
       "bureau_AMT_ANNUITY_max                            0.739817\n",
       "bureau_AMT_ANNUITY_min                            0.739817\n",
       "client_bureau_balance_MONTHS_BALANCE_max_mean     0.700073\n",
       "client_bureau_balance_MONTHS_BALANCE_count_min    0.700073\n",
       "dtype: float64"
      ]
     },
     "execution_count": 31,
     "metadata": {},
     "output_type": "execute_result"
    }
   ],
   "source": [
    "# Train missing values (in percent)\n",
    "train_missing = (train.isnull().sum() / len(train)).sort_values(ascending = False)\n",
    "train_missing.head()"
   ]
  },
  {
   "cell_type": "code",
   "execution_count": 32,
   "metadata": {
    "Collapsed": "false",
    "_uuid": "f7b485689bedd322ea3eb9083822f814719add0b"
   },
   "outputs": [
    {
     "data": {
      "text/plain": [
       "COMMONAREA_AVG             0.687161\n",
       "NONLIVINGAPARTMENTS_AVG    0.684125\n",
       "FONDKAPREMONT_MODE         0.672842\n",
       "FLOORSMIN_AVG              0.666051\n",
       "OWN_CAR_AGE                0.662892\n",
       "dtype: float64"
      ]
     },
     "execution_count": 32,
     "metadata": {},
     "output_type": "execute_result"
    }
   ],
   "source": [
    "# Test missing values (in percent)\n",
    "test_missing = (test.isnull().sum() / len(test)).sort_values(ascending = False)\n",
    "test_missing.head()"
   ]
  },
  {
   "cell_type": "code",
   "execution_count": 33,
   "metadata": {
    "Collapsed": "false",
    "_uuid": "9ab5d9001ab54692f0e2bc4e1d976d734771891c"
   },
   "outputs": [
    {
     "name": "stdout",
     "output_type": "stream",
     "text": [
      "There are 0 columns with more than 75% missing values\n"
     ]
    }
   ],
   "source": [
    "# Identify missing values above threshold\n",
    "train_missing = train_missing.index[train_missing > 0.75]\n",
    "test_missing = test_missing.index[test_missing > 0.75]\n",
    "\n",
    "all_missing = list(set(set(train_missing) | set(test_missing)))\n",
    "print('There are %d columns with more than 75%% missing values' % len(all_missing))"
   ]
  },
  {
   "cell_type": "markdown",
   "metadata": {
    "Collapsed": "false",
    "_uuid": "fc8e7bdb14e7e65a257c93d5c45a882098971360"
   },
   "source": [
    "Let's drop the columns, one-hot encode the dataframes, and then align the columns of the dataframes."
   ]
  },
  {
   "cell_type": "code",
   "execution_count": 34,
   "metadata": {
    "Collapsed": "false",
    "_uuid": "9478bfc3069bf9b4e192c45cf323c1ea84ca7b2c"
   },
   "outputs": [
    {
     "name": "stdout",
     "output_type": "stream",
     "text": [
      "Training set full shape:  (307511, 319)\n",
      "Testing set full shape:  (48744, 319)\n"
     ]
    }
   ],
   "source": [
    "# Need to save the labels because aligning will remove this column\n",
    "train_labels = train[\"TARGET\"]\n",
    "train_ids = train['SK_ID_CURR']\n",
    "test_ids = test['SK_ID_CURR']\n",
    "\n",
    "train = pd.get_dummies(train.drop(columns = all_missing))\n",
    "test = pd.get_dummies(test.drop(columns = all_missing))\n",
    "\n",
    "train, test = train.align(test, join = 'inner', axis = 1)\n",
    "\n",
    "print('Training set full shape: ', train.shape)\n",
    "print('Testing set full shape: ' , test.shape)"
   ]
  },
  {
   "cell_type": "code",
   "execution_count": 35,
   "metadata": {
    "Collapsed": "false",
    "_uuid": "06a7110748fe39b0ae8248ed62dfeb844a124ca1"
   },
   "outputs": [],
   "source": [
    "train = train.drop(columns = ['SK_ID_CURR'])\n",
    "test = test.drop(columns = ['SK_ID_CURR'])"
   ]
  },
  {
   "cell_type": "code",
   "execution_count": 1,
   "metadata": {},
   "outputs": [],
   "source": [
    "#Making sure we do not have json related display bug"
   ]
  },
  {
   "cell_type": "code",
   "execution_count": 38,
   "metadata": {},
   "outputs": [],
   "source": [
    "import re\n",
    "train = train.rename(columns = lambda x:re.sub('[^A-Za-z0-9_]+', '', x))"
   ]
  },
  {
   "cell_type": "code",
   "execution_count": 39,
   "metadata": {},
   "outputs": [],
   "source": [
    "test = test.rename(columns = lambda x:re.sub('[^A-Za-z0-9_]+', '', x))"
   ]
  },
  {
   "cell_type": "markdown",
   "metadata": {
    "Collapsed": "false",
    "_uuid": "d4d38ab010cddd88e714894e09d8733cc60daafd"
   },
   "source": [
    "# Feature Selection through Feature Importances\n",
    "\n",
    "The next method we can employ for feature selection is to use the feature importances of a model. Tree-based models (and consequently ensembles of trees) can determine an \"importance\" for each feature by measuring the reduction in impurity for including the feature in the model.  The relative value of the importances can be used as an approximation of the \"relevance\" of different features in a model. Moreover, we can use the feature importances to remove features that the model does not consider important. \n",
    "\n",
    "One method for doing this automatically is the [Recursive Feature Elimination method](http://scikit-learn.org/stable/modules/generated/sklearn.feature_selection.RFE.html) in Scikit-Learn. This accepts an estimator (one that either returns feature weights such as a linear regression, or feature importances such as a random forest) and a desired number of features. In then fits the model repeatedly on the data and iteratively removes the lowest importance features until the desired number of features is left. This means we have another arbitrary hyperparameter to use in out pipeline: the number of features to keep! \n",
    "\n",
    "Instead of doing this automatically, we can perform our own feature removal by first removing all zero importance features from the model. If this leaves too many features, then we can consider removing the features with the lowest importance. We will use a Gradient Boosted Model from the LightGBM library to assess feature importances. If you're used to the Scikit-Learn library, the LightGBM library has an API that makes deploying the model very similar to using a Scikit-Learn model. "
   ]
  },
  {
   "cell_type": "markdown",
   "metadata": {
    "Collapsed": "false",
    "_uuid": "6525f690933a50ab1eb7f360629b98d9a2f6df37"
   },
   "source": [
    "Since the LightGBM model does not need missing values to be imputed, we can directly `fit` on the training data. We will use Early Stopping to determine the optimal number of iterations and run the model twice, averaging the feature importances to try and avoid overfitting to a certain set of features."
   ]
  },
  {
   "cell_type": "code",
   "execution_count": 40,
   "metadata": {
    "Collapsed": "false",
    "_uuid": "4741055961c566f3a2e9d60893950cade5a57330"
   },
   "outputs": [],
   "source": [
    "# Initialize an empty array to hold feature importances\n",
    "feature_importances = np.zeros(train.shape[1])\n",
    "\n",
    "# Create the model with several hyperparameters\n",
    "model = lgb.LGBMClassifier(objective='binary', boosting_type = 'goss', n_estimators = 10000, class_weight = 'balanced')"
   ]
  },
  {
   "cell_type": "code",
   "execution_count": null,
   "metadata": {},
   "outputs": [],
   "source": []
  },
  {
   "cell_type": "code",
   "execution_count": 41,
   "metadata": {
    "Collapsed": "false",
    "_uuid": "4535a84ea5b2c55f7b443832c7a5b2b77894e511"
   },
   "outputs": [
    {
     "name": "stdout",
     "output_type": "stream",
     "text": [
      "[200]\tvalid_0's auc: 0.764416\tvalid_0's binary_logloss: 0.535531\n"
     ]
    }
   ],
   "source": [
    "# Fit the model twice to avoid overfitting\n",
    "for i in range(2):\n",
    "    \n",
    "    # Split into training and validation set\n",
    "    train_features, valid_features, train_y, valid_y = train_test_split(train, train_labels, test_size = 0.25, random_state = i)\n",
    "    \n",
    "    # Train using early stopping\n",
    "    model.fit(train_features, train_y, early_stopping_rounds=100, eval_set = [(valid_features, valid_y)], \n",
    "              eval_metric = 'auc', verbose = 200)\n",
    "    \n",
    "    # Record the feature importances\n",
    "    feature_importances += model.feature_importances_"
   ]
  },
  {
   "cell_type": "code",
   "execution_count": 42,
   "metadata": {
    "Collapsed": "false",
    "_uuid": "68a0ce264d8182bffa27fca668d81040fdc3b9ba"
   },
   "outputs": [
    {
     "data": {
      "text/html": [
       "<div>\n",
       "<style scoped>\n",
       "    .dataframe tbody tr th:only-of-type {\n",
       "        vertical-align: middle;\n",
       "    }\n",
       "\n",
       "    .dataframe tbody tr th {\n",
       "        vertical-align: top;\n",
       "    }\n",
       "\n",
       "    .dataframe thead th {\n",
       "        text-align: right;\n",
       "    }\n",
       "</style>\n",
       "<table border=\"1\" class=\"dataframe\">\n",
       "  <thead>\n",
       "    <tr style=\"text-align: right;\">\n",
       "      <th></th>\n",
       "      <th>feature</th>\n",
       "      <th>importance</th>\n",
       "    </tr>\n",
       "  </thead>\n",
       "  <tbody>\n",
       "    <tr>\n",
       "      <th>22</th>\n",
       "      <td>EXT_SOURCE_1</td>\n",
       "      <td>198.0</td>\n",
       "    </tr>\n",
       "    <tr>\n",
       "      <th>23</th>\n",
       "      <td>EXT_SOURCE_2</td>\n",
       "      <td>172.0</td>\n",
       "    </tr>\n",
       "    <tr>\n",
       "      <th>24</th>\n",
       "      <td>EXT_SOURCE_3</td>\n",
       "      <td>157.5</td>\n",
       "    </tr>\n",
       "    <tr>\n",
       "      <th>5</th>\n",
       "      <td>DAYS_BIRTH</td>\n",
       "      <td>142.5</td>\n",
       "    </tr>\n",
       "    <tr>\n",
       "      <th>2</th>\n",
       "      <td>AMT_CREDIT</td>\n",
       "      <td>126.0</td>\n",
       "    </tr>\n",
       "  </tbody>\n",
       "</table>\n",
       "</div>"
      ],
      "text/plain": [
       "         feature  importance\n",
       "22  EXT_SOURCE_1       198.0\n",
       "23  EXT_SOURCE_2       172.0\n",
       "24  EXT_SOURCE_3       157.5\n",
       "5     DAYS_BIRTH       142.5\n",
       "2     AMT_CREDIT       126.0"
      ]
     },
     "execution_count": 42,
     "metadata": {},
     "output_type": "execute_result"
    }
   ],
   "source": [
    "# Make sure to average feature importances! \n",
    "feature_importances = feature_importances / 2\n",
    "feature_importances = pd.DataFrame({'feature': list(train.columns), 'importance': feature_importances}).sort_values('importance', ascending = False)\n",
    "\n",
    "feature_importances.head()"
   ]
  },
  {
   "cell_type": "code",
   "execution_count": 43,
   "metadata": {
    "Collapsed": "false",
    "_uuid": "54f05dafeccd5f3800967fa304cbcf3b3076a5c2"
   },
   "outputs": [
    {
     "name": "stdout",
     "output_type": "stream",
     "text": [
      "There are 106 features with 0.0 importance\n"
     ]
    },
    {
     "data": {
      "text/html": [
       "<div>\n",
       "<style scoped>\n",
       "    .dataframe tbody tr th:only-of-type {\n",
       "        vertical-align: middle;\n",
       "    }\n",
       "\n",
       "    .dataframe tbody tr th {\n",
       "        vertical-align: top;\n",
       "    }\n",
       "\n",
       "    .dataframe thead th {\n",
       "        text-align: right;\n",
       "    }\n",
       "</style>\n",
       "<table border=\"1\" class=\"dataframe\">\n",
       "  <thead>\n",
       "    <tr style=\"text-align: right;\">\n",
       "      <th></th>\n",
       "      <th>feature</th>\n",
       "      <th>importance</th>\n",
       "    </tr>\n",
       "  </thead>\n",
       "  <tbody>\n",
       "    <tr>\n",
       "      <th>101</th>\n",
       "      <td>bureau_CREDIT_TYPE_Unknowntypeofloan_count</td>\n",
       "      <td>0.0</td>\n",
       "    </tr>\n",
       "    <tr>\n",
       "      <th>102</th>\n",
       "      <td>bureau_CREDIT_TYPE_Unknowntypeofloan_count_norm</td>\n",
       "      <td>0.0</td>\n",
       "    </tr>\n",
       "    <tr>\n",
       "      <th>108</th>\n",
       "      <td>bureau_CREDIT_DAY_OVERDUE_min</td>\n",
       "      <td>0.0</td>\n",
       "    </tr>\n",
       "    <tr>\n",
       "      <th>118</th>\n",
       "      <td>bureau_CNT_CREDIT_PROLONG_min</td>\n",
       "      <td>0.0</td>\n",
       "    </tr>\n",
       "    <tr>\n",
       "      <th>317</th>\n",
       "      <td>EMERGENCYSTATE_MODE_Yes</td>\n",
       "      <td>0.0</td>\n",
       "    </tr>\n",
       "  </tbody>\n",
       "</table>\n",
       "</div>"
      ],
      "text/plain": [
       "                                             feature  importance\n",
       "101       bureau_CREDIT_TYPE_Unknowntypeofloan_count         0.0\n",
       "102  bureau_CREDIT_TYPE_Unknowntypeofloan_count_norm         0.0\n",
       "108                    bureau_CREDIT_DAY_OVERDUE_min         0.0\n",
       "118                    bureau_CNT_CREDIT_PROLONG_min         0.0\n",
       "317                          EMERGENCYSTATE_MODE_Yes         0.0"
      ]
     },
     "execution_count": 43,
     "metadata": {},
     "output_type": "execute_result"
    }
   ],
   "source": [
    "# Find the features with zero importance\n",
    "zero_features = list(feature_importances[feature_importances['importance'] == 0.0]['feature'])\n",
    "print('There are %d features with 0.0 importance' % len(zero_features))\n",
    "feature_importances.tail()"
   ]
  },
  {
   "cell_type": "markdown",
   "metadata": {
    "Collapsed": "false",
    "_uuid": "68f738649fcc774a3eeceb2c602d00d9f4ff841d"
   },
   "source": [
    "We see that one of our features made it into the top 5 most important! That's a good sign for all of our hard work making the features. It also looks like many of the features we made have literally 0 importance. For the gradient boosting machine, features with 0 importance are not used at all to make any splits. Therefore, we can remove these features from the model with no effect on performance (except for faster training). "
   ]
  },
  {
   "cell_type": "code",
   "execution_count": 44,
   "metadata": {
    "Collapsed": "false",
    "_uuid": "144732dd9d88d13b06983590b9d34970ff6c9a69"
   },
   "outputs": [],
   "source": [
    "def plot_feature_importances(df, threshold = 0.9):\n",
    "    \"\"\"\n",
    "    Plots 15 most important features and the cumulative importance of features.\n",
    "    Prints the number of features needed to reach threshold cumulative importance.\n",
    "    \n",
    "    Parameters\n",
    "    --------\n",
    "    df : dataframe\n",
    "        Dataframe of feature importances. Columns must be feature and importance\n",
    "    threshold : float, default = 0.9\n",
    "        Threshold for prining information about cumulative importances\n",
    "        \n",
    "    Return\n",
    "    --------\n",
    "    df : dataframe\n",
    "        Dataframe ordered by feature importances with a normalized column (sums to 1)\n",
    "        and a cumulative importance column\n",
    "    \n",
    "    \"\"\"\n",
    "    \n",
    "    plt.rcParams['font.size'] = 18\n",
    "    \n",
    "    # Sort features according to importance\n",
    "    df = df.sort_values('importance', ascending = False).reset_index()\n",
    "    \n",
    "    # Normalize the feature importances to add up to one\n",
    "    df['importance_normalized'] = df['importance'] / df['importance'].sum()\n",
    "    df['cumulative_importance'] = np.cumsum(df['importance_normalized'])\n",
    "\n",
    "    # Make a horizontal bar chart of feature importances\n",
    "    plt.figure(figsize = (10, 6))\n",
    "    ax = plt.subplot()\n",
    "    \n",
    "    # Need to reverse the index to plot most important on top\n",
    "    ax.barh(list(reversed(list(df.index[:15]))), \n",
    "            df['importance_normalized'].head(15), \n",
    "            align = 'center', edgecolor = 'k')\n",
    "    \n",
    "    # Set the yticks and labels\n",
    "    ax.set_yticks(list(reversed(list(df.index[:15]))))\n",
    "    ax.set_yticklabels(df['feature'].head(15))\n",
    "    \n",
    "    # Plot labeling\n",
    "    plt.xlabel('Normalized Importance'); plt.title('Feature Importances')\n",
    "    plt.show()\n",
    "    \n",
    "    # Cumulative importance plot\n",
    "    plt.figure(figsize = (8, 6))\n",
    "    plt.plot(list(range(len(df))), df['cumulative_importance'], 'r-')\n",
    "    plt.xlabel('Number of Features'); plt.ylabel('Cumulative Importance'); \n",
    "    plt.title('Cumulative Feature Importance');\n",
    "    plt.show();\n",
    "    \n",
    "    importance_index = np.min(np.where(df['cumulative_importance'] > threshold))\n",
    "    print('%d features required for %0.2f of cumulative importance' % (importance_index + 1, threshold))\n",
    "    \n",
    "    return df"
   ]
  },
  {
   "cell_type": "code",
   "execution_count": 45,
   "metadata": {
    "Collapsed": "false",
    "_uuid": "ea0dcbff339b6ffdfd654d165cdb96268311ba95"
   },
   "outputs": [
    {
     "data": {
      "image/png": "[encoded data removed]",
      "text/plain": [
       "<Figure size 720x432 with 1 Axes>"
      ]
     },
     "metadata": {
      "needs_background": "light"
     },
     "output_type": "display_data"
    },
    {
     "data": {
      "image/png": "[encoded data removed]",
      "text/plain": [
       "<Figure size 576x432 with 1 Axes>"
      ]
     },
     "metadata": {
      "needs_background": "light"
     },
     "output_type": "display_data"
    },
    {
     "name": "stdout",
     "output_type": "stream",
     "text": [
      "87 features required for 0.90 of cumulative importance\n"
     ]
    }
   ],
   "source": [
    "norm_feature_importances = plot_feature_importances(feature_importances)"
   ]
  },
  {
   "cell_type": "markdown",
   "metadata": {
    "Collapsed": "false",
    "_uuid": "e8df33430fe5bd31d83e5d2ca5050c0864b34488"
   },
   "source": [
    "Let's remove the features that have zero importance."
   ]
  },
  {
   "cell_type": "code",
   "execution_count": 46,
   "metadata": {
    "Collapsed": "false",
    "_uuid": "e3849b51615d52eee53e3c919c17c6066ae29397"
   },
   "outputs": [
    {
     "name": "stdout",
     "output_type": "stream",
     "text": [
      "Training shape:  (307511, 212)\n",
      "Testing shape:  (48744, 212)\n"
     ]
    }
   ],
   "source": [
    "train = train.drop(columns = zero_features)\n",
    "test = test.drop(columns = zero_features)\n",
    "\n",
    "print('Training shape: ', train.shape)\n",
    "print('Testing shape: ', test.shape)"
   ]
  },
  {
   "cell_type": "markdown",
   "metadata": {
    "Collapsed": "false",
    "_uuid": "c67926fdcb81d3f438510f06cadbba1edbc70879"
   },
   "source": [
    "At this point, we can re-run the model to see if it identifies any more features with zero importance. In a way, we are implementing our own form of recursive feature elimination. Since we are repeating work, we should probably put the zero feature importance identification code in a function."
   ]
  },
  {
   "cell_type": "code",
   "execution_count": 47,
   "metadata": {
    "Collapsed": "false",
    "_uuid": "d09ec2ad863688243bc95c51aa43a559f56ad4fb"
   },
   "outputs": [],
   "source": [
    "def identify_zero_importance_features(train, train_labels, iterations = 2):\n",
    "    \"\"\"\n",
    "    Identify zero importance features in a training dataset based on the \n",
    "    feature importances from a gradient boosting model. \n",
    "    \n",
    "    Parameters\n",
    "    --------\n",
    "    train : dataframe\n",
    "        Training features\n",
    "        \n",
    "    train_labels : np.array\n",
    "        Labels for training data\n",
    "        \n",
    "    iterations : integer, default = 2\n",
    "        Number of cross validation splits to use for determining feature importances\n",
    "    \"\"\"\n",
    "    \n",
    "    # Initialize an empty array to hold feature importances\n",
    "    feature_importances = np.zeros(train.shape[1])\n",
    "\n",
    "    # Create the model with several hyperparameters\n",
    "    model = lgb.LGBMClassifier(objective='binary', boosting_type = 'goss', n_estimators = 10000, class_weight = 'balanced')\n",
    "    \n",
    "    # Fit the model multiple times to avoid overfitting\n",
    "    for i in range(iterations):\n",
    "\n",
    "        # Split into training and validation set\n",
    "        train_features, valid_features, train_y, valid_y = train_test_split(train, train_labels, test_size = 0.25, random_state = i)\n",
    "\n",
    "        # Train using early stopping\n",
    "        model.fit(train_features, train_y, early_stopping_rounds=100, eval_set = [(valid_features, valid_y)], \n",
    "                  eval_metric = 'auc', verbose = 200)\n",
    "\n",
    "        # Record the feature importances\n",
    "        feature_importances += model.feature_importances_ / iterations\n",
    "    \n",
    "    feature_importances = pd.DataFrame({'feature': list(train.columns), 'importance': feature_importances}).sort_values('importance', ascending = False)\n",
    "    \n",
    "    # Find the features with zero importance\n",
    "    zero_features = list(feature_importances[feature_importances['importance'] == 0.0]['feature'])\n",
    "    print('\\nThere are %d features with 0.0 importance' % len(zero_features))\n",
    "    \n",
    "    return zero_features, feature_importances"
   ]
  },
  {
   "cell_type": "code",
   "execution_count": 48,
   "metadata": {
    "Collapsed": "false",
    "_uuid": "f69eede0e8e04f1f4c850e5c102dcdebcdb107e7"
   },
   "outputs": [
    {
     "name": "stdout",
     "output_type": "stream",
     "text": [
      "[200]\tvalid_0's auc: 0.762586\tvalid_0's binary_logloss: 0.535473\n",
      "[200]\tvalid_0's auc: 0.763347\tvalid_0's binary_logloss: 0.536746\n",
      "\n",
      "There are 0 features with 0.0 importance\n"
     ]
    }
   ],
   "source": [
    "second_round_zero_features, feature_importances = identify_zero_importance_features(train, train_labels)"
   ]
  },
  {
   "cell_type": "markdown",
   "metadata": {
    "Collapsed": "false",
    "_uuid": "c877ed509374d9494c508a8b920e92c926453f84"
   },
   "source": [
    "There are now no 0 importance features left (I guess we should have expected this). If we want to remove more features, we will have to start with features that have a non-zero importance. One way we could do this is by retaining enough features to account for a threshold percentage of importance, such as 95%. At this point, let's keep enough features to account for 95% of the importance. Again, this is an arbitrary decision! "
   ]
  },
  {
   "cell_type": "code",
   "execution_count": 49,
   "metadata": {
    "Collapsed": "false",
    "_uuid": "bb6dd17a7417f3b67017e7e8e18c09725df6e434"
   },
   "outputs": [
    {
     "data": {
      "image/png": "[encoded data removed]",
      "text/plain": [
       "<Figure size 720x432 with 1 Axes>"
      ]
     },
     "metadata": {
      "needs_background": "light"
     },
     "output_type": "display_data"
    },
    {
     "data": {
      "image/png": "[encoded data removed]",
      "text/plain": [
       "<Figure size 576x432 with 1 Axes>"
      ]
     },
     "metadata": {
      "needs_background": "light"
     },
     "output_type": "display_data"
    },
    {
     "name": "stdout",
     "output_type": "stream",
     "text": [
      "114 features required for 0.95 of cumulative importance\n"
     ]
    }
   ],
   "source": [
    "norm_feature_importances = plot_feature_importances(feature_importances, threshold = 0.95)"
   ]
  },
  {
   "cell_type": "markdown",
   "metadata": {
    "Collapsed": "false",
    "_uuid": "1cfc6829b62a44efcc7aeba227db4b293b76bfd5"
   },
   "source": [
    "We can keep only the features needed for 95% importance. This step seems to me to have the greatest chance of harming the model's learning ability, so rather than changing the original dataset, we will make smaller copies. Then, we can test both versions of the data to see if the extra feature removal step is worthwhile. "
   ]
  },
  {
   "cell_type": "code",
   "execution_count": 50,
   "metadata": {
    "Collapsed": "false",
    "_uuid": "55a534e48b21d4038413a11ff3aad5e025bba5bd"
   },
   "outputs": [],
   "source": [
    "# Threshold for cumulative importance\n",
    "threshold = 0.95\n",
    "\n",
    "# Extract the features to keep\n",
    "features_to_keep = list(norm_feature_importances[norm_feature_importances['cumulative_importance'] < threshold]['feature'])\n",
    "\n",
    "# Create new datasets with smaller features\n",
    "train_small = train[features_to_keep]\n",
    "test_small = test[features_to_keep]"
   ]
  },
  {
   "cell_type": "code",
   "execution_count": 51,
   "metadata": {
    "Collapsed": "false",
    "_uuid": "b004fb636fee6ad313296c185273a5c0058afc78"
   },
   "outputs": [],
   "source": [
    "train_small['TARGET'] = train_labels\n",
    "train_small['SK_ID_CURR'] = train_ids\n",
    "test_small['SK_ID_CURR'] = test_ids\n",
    "\n",
    "train_small.to_csv('data_p7/raw/m_train_small.csv', index = False)\n",
    "test_small.to_csv('data_p7/raw/m_test_small.csv', index = False)"
   ]
  },
  {
   "cell_type": "markdown",
   "metadata": {
    "Collapsed": "false",
    "_uuid": "b4f2c70170ca1ec372e9646edecac79bba561cd6"
   },
   "source": [
    "# Test New Featuresets\n",
    "\n",
    "The last step of feature removal we did seems like it may have the potential to hurt the model the most. Therefore we want to test the effect of this removal. To do that, we can use a standard model and change the features. \n",
    "\n",
    "We will use a fairly standard LightGBM model, similar to the one we used for feature selection. The main difference is this model uses five-fold cross validation for training and we  use it to make predictions. There's a lot of code here, but that's because I included documentation and a few extras (such as feature importances) that aren't strictly necessary. For now, understanding the entire model isn't critical, just know that we are using the same model with two different datasets to see which one performs the best."
   ]
  },
  {
   "cell_type": "code",
   "execution_count": 54,
   "metadata": {
    "Collapsed": "false",
    "_uuid": "cf8d66553230c1a535438f3a453ca3a05da7bc29"
   },
   "outputs": [],
   "source": [
    "def model(features, test_features, encoding = 'ohe', n_folds = 5):\n",
    "    \n",
    "    \"\"\"Train and test a light gradient boosting model using\n",
    "    cross validation. \n",
    "    \n",
    "    Parameters\n",
    "    --------\n",
    "        features (pd.DataFrame): \n",
    "            dataframe of training features to use \n",
    "            for training a model. Must include the TARGET column.\n",
    "        test_features (pd.DataFrame): \n",
    "            dataframe of testing features to use\n",
    "            for making predictions with the model. \n",
    "        encoding (str, default = 'ohe'): \n",
    "            method for encoding categorical variables. Either 'ohe' for one-hot encoding or 'le' for integer label encoding\n",
    "            n_folds (int, default = 5): number of folds to use for cross validation\n",
    "        \n",
    "    Return\n",
    "    --------\n",
    "        submission (pd.DataFrame): \n",
    "            dataframe with `SK_ID_CURR` and `TARGET` probabilities\n",
    "            predicted by the model.\n",
    "        feature_importances (pd.DataFrame): \n",
    "            dataframe with the feature importances from the model.\n",
    "        valid_metrics (pd.DataFrame): \n",
    "            dataframe with training and validation metrics (ROC AUC) for each fold and overall.\n",
    "        \n",
    "    \"\"\"\n",
    "    \n",
    "    # Extract the ids\n",
    "    train_ids = features['SK_ID_CURR']\n",
    "    test_ids = test_features['SK_ID_CURR']\n",
    "    \n",
    "    # Extract the labels for training\n",
    "    labels = features['TARGET']\n",
    "    \n",
    "    # Remove the ids and target\n",
    "    features = features.drop(columns = ['SK_ID_CURR', 'TARGET'])\n",
    "    test_features = test_features.drop(columns = ['SK_ID_CURR'])\n",
    "    \n",
    "    \n",
    "    # One Hot Encoding\n",
    "    if encoding == 'ohe':\n",
    "        features = pd.get_dummies(features)\n",
    "        test_features = pd.get_dummies(test_features)\n",
    "        \n",
    "        # Align the dataframes by the columns\n",
    "        features, test_features = features.align(test_features, join = 'inner', axis = 1)\n",
    "        \n",
    "        # No categorical indices to record\n",
    "        cat_indices = 'auto'\n",
    "    \n",
    "    # Integer label encoding\n",
    "    elif encoding == 'le':\n",
    "        \n",
    "        # Create a label encoder\n",
    "        label_encoder = LabelEncoder()\n",
    "        \n",
    "        # List for storing categorical indices\n",
    "        cat_indices = []\n",
    "        \n",
    "        # Iterate through each column\n",
    "        for i, col in enumerate(features):\n",
    "            if features[col].dtype == 'object':\n",
    "                # Map the categorical features to integers\n",
    "                features[col] = label_encoder.fit_transform(np.array(features[col].astype(str)).reshape((-1,)))\n",
    "                test_features[col] = label_encoder.transform(np.array(test_features[col].astype(str)).reshape((-1,)))\n",
    "\n",
    "                # Record the categorical indices\n",
    "                cat_indices.append(i)\n",
    "    \n",
    "    # Catch error if label encoding scheme is not valid\n",
    "    else:\n",
    "        raise ValueError(\"Encoding must be either 'ohe' or 'le'\")\n",
    "        \n",
    "    print('Training Data Shape: ', features.shape)\n",
    "    print('Testing Data Shape: ', test_features.shape)\n",
    "    \n",
    "    # Extract feature names\n",
    "    feature_names = list(features.columns)\n",
    "    \n",
    "    # Convert to np arrays\n",
    "    features = np.array(features)\n",
    "    test_features = np.array(test_features)\n",
    "    \n",
    "    # Create the kfold object\n",
    "    k_fold = KFold(n_splits = n_folds, shuffle = True, random_state = 50)\n",
    "    \n",
    "    # Empty array for feature importances\n",
    "    feature_importance_values = np.zeros(len(feature_names))\n",
    "    \n",
    "    # Empty array for test predictions\n",
    "    test_predictions = np.zeros(test_features.shape[0])\n",
    "    \n",
    "    # Empty array for out of fold validation predictions\n",
    "    out_of_fold = np.zeros(features.shape[0])\n",
    "    \n",
    "    # Lists for recording validation and training scores\n",
    "    valid_scores = []\n",
    "    train_scores = []\n",
    "    \n",
    "    # Iterate through each fold\n",
    "    for train_indices, valid_indices in k_fold.split(features):\n",
    "        \n",
    "        # Training data for the fold\n",
    "        train_features, train_labels = features[train_indices], labels[train_indices]\n",
    "        # Validation data for the fold\n",
    "        valid_features, valid_labels = features[valid_indices], labels[valid_indices]\n",
    "        \n",
    "        # Create the model\n",
    "        model = lgb.LGBMClassifier(n_estimators=10000, objective = 'binary', boosting_type='goss',\n",
    "                                   class_weight = 'balanced', learning_rate = 0.05, \n",
    "                                   reg_alpha = 0.1, reg_lambda = 0.1, n_jobs = -1, random_state = 50)\n",
    "        \n",
    "        # Train the model\n",
    "        model.fit(train_features, train_labels, eval_metric = 'auc',\n",
    "                  eval_set = [(valid_features, valid_labels), (train_features, train_labels)],\n",
    "                  eval_names = ['valid', 'train'], categorical_feature = cat_indices,\n",
    "                  early_stopping_rounds = 100, verbose = 200)\n",
    "        \n",
    "        # Record the best iteration\n",
    "        best_iteration = model.best_iteration_\n",
    "        \n",
    "        # Record the feature importances\n",
    "        feature_importance_values += model.feature_importances_ / k_fold.n_splits\n",
    "        \n",
    "        # Make predictions\n",
    "        test_predictions += model.predict_proba(test_features, num_iteration = best_iteration)[:, 1] / k_fold.n_splits\n",
    "        \n",
    "        # Record the out of fold predictions\n",
    "        out_of_fold[valid_indices] = model.predict_proba(valid_features, num_iteration = best_iteration)[:, 1]\n",
    "        \n",
    "        # Record the best score\n",
    "        valid_score = model.best_score_['valid']['auc']\n",
    "        train_score = model.best_score_['train']['auc']\n",
    "        \n",
    "        valid_scores.append(valid_score)\n",
    "        train_scores.append(train_score)\n",
    "        \n",
    "        # Clean up memory\n",
    "        gc.enable()\n",
    "        del model, train_features, valid_features\n",
    "        gc.collect()\n",
    "        \n",
    "    # Make the submission dataframe\n",
    "    submission = pd.DataFrame({'SK_ID_CURR': test_ids, 'TARGET': test_predictions})\n",
    "    \n",
    "    # Make the feature importance dataframe\n",
    "    feature_importances = pd.DataFrame({'feature': feature_names, 'importance': feature_importance_values})\n",
    "    \n",
    "    # Overall validation score\n",
    "    valid_auc = roc_auc_score(labels, out_of_fold)\n",
    "    \n",
    "    # Add the overall scores to the metrics\n",
    "    valid_scores.append(valid_auc)\n",
    "    train_scores.append(np.mean(train_scores))\n",
    "    \n",
    "    # Needed for creating dataframe of validation scores\n",
    "    fold_names = list(range(n_folds))\n",
    "    fold_names.append('overall')\n",
    "    \n",
    "    # Dataframe of validation scores\n",
    "    metrics = pd.DataFrame({'fold': fold_names,\n",
    "                            'train': train_scores,\n",
    "                            'valid': valid_scores}) \n",
    "    \n",
    "    return submission, feature_importances, metrics"
   ]
  },
  {
   "cell_type": "markdown",
   "metadata": {
    "Collapsed": "false",
    "_uuid": "e116f579927c9dbb930ca2cf313e1a42fe0e61c5"
   },
   "source": [
    "### Test \"Full\" Dataset\n",
    "\n",
    "This is the expanded dataset. To recap the process to make this dataset we:\n",
    "\n",
    "* Removed collinear features as measured by the correlation coefficient greater than 0.9\n",
    "* Removed any columns with greater than 80% missing values in the train or test set\n",
    "* Removed all features with non-zero feature importances"
   ]
  },
  {
   "cell_type": "code",
   "execution_count": 55,
   "metadata": {
    "Collapsed": "false",
    "_uuid": "3560addd3c31f5c21235062257bf022e31a872d3"
   },
   "outputs": [
    {
     "name": "stdout",
     "output_type": "stream",
     "text": [
      "Training Data Shape:  (307511, 212)\n",
      "Testing Data Shape:  (48744, 212)\n",
      "[200]\ttrain's auc: 0.80698\ttrain's binary_logloss: 0.539772\tvalid's auc: 0.761522\tvalid's binary_logloss: 0.556678\n",
      "[400]\ttrain's auc: 0.841497\ttrain's binary_logloss: 0.504115\tvalid's auc: 0.762201\tvalid's binary_logloss: 0.534628\n",
      "[200]\ttrain's auc: 0.807177\ttrain's binary_logloss: 0.539786\tvalid's auc: 0.762485\tvalid's binary_logloss: 0.557232\n",
      "[200]\ttrain's auc: 0.806088\ttrain's binary_logloss: 0.541091\tvalid's auc: 0.767464\tvalid's binary_logloss: 0.557942\n",
      "[400]\ttrain's auc: 0.841145\ttrain's binary_logloss: 0.505441\tvalid's auc: 0.768385\tvalid's binary_logloss: 0.535227\n",
      "[200]\ttrain's auc: 0.806401\ttrain's binary_logloss: 0.5407\tvalid's auc: 0.764617\tvalid's binary_logloss: 0.556739\n",
      "[400]\ttrain's auc: 0.841471\ttrain's binary_logloss: 0.504788\tvalid's auc: 0.765959\tvalid's binary_logloss: 0.534166\n",
      "[200]\ttrain's auc: 0.806906\ttrain's binary_logloss: 0.54009\tvalid's auc: 0.762047\tvalid's binary_logloss: 0.558434\n",
      "[400]\ttrain's auc: 0.841641\ttrain's binary_logloss: 0.504282\tvalid's auc: 0.763368\tvalid's binary_logloss: 0.536523\n"
     ]
    }
   ],
   "source": [
    "train['TARGET'] = train_labels\n",
    "train['SK_ID_CURR'] = train_ids\n",
    "test['SK_ID_CURR'] = test_ids\n",
    "\n",
    "submission, feature_importances, metrics = model(train, test)"
   ]
  },
  {
   "cell_type": "code",
   "execution_count": 57,
   "metadata": {
    "Collapsed": "false",
    "_uuid": "400cf0845130330e64dd59705a16488d077f4d27"
   },
   "outputs": [
    {
     "data": {
      "text/html": [
       "<div>\n",
       "<style scoped>\n",
       "    .dataframe tbody tr th:only-of-type {\n",
       "        vertical-align: middle;\n",
       "    }\n",
       "\n",
       "    .dataframe tbody tr th {\n",
       "        vertical-align: top;\n",
       "    }\n",
       "\n",
       "    .dataframe thead th {\n",
       "        text-align: right;\n",
       "    }\n",
       "</style>\n",
       "<table border=\"1\" class=\"dataframe\">\n",
       "  <thead>\n",
       "    <tr style=\"text-align: right;\">\n",
       "      <th></th>\n",
       "      <th>fold</th>\n",
       "      <th>train</th>\n",
       "      <th>valid</th>\n",
       "    </tr>\n",
       "  </thead>\n",
       "  <tbody>\n",
       "    <tr>\n",
       "      <th>0</th>\n",
       "      <td>0</td>\n",
       "      <td>0.828539</td>\n",
       "      <td>0.762366</td>\n",
       "    </tr>\n",
       "    <tr>\n",
       "      <th>1</th>\n",
       "      <td>1</td>\n",
       "      <td>0.823662</td>\n",
       "      <td>0.763258</td>\n",
       "    </tr>\n",
       "    <tr>\n",
       "      <th>2</th>\n",
       "      <td>2</td>\n",
       "      <td>0.835283</td>\n",
       "      <td>0.768579</td>\n",
       "    </tr>\n",
       "    <tr>\n",
       "      <th>3</th>\n",
       "      <td>3</td>\n",
       "      <td>0.843329</td>\n",
       "      <td>0.766198</td>\n",
       "    </tr>\n",
       "    <tr>\n",
       "      <th>4</th>\n",
       "      <td>4</td>\n",
       "      <td>0.827245</td>\n",
       "      <td>0.763649</td>\n",
       "    </tr>\n",
       "    <tr>\n",
       "      <th>5</th>\n",
       "      <td>overall</td>\n",
       "      <td>0.831612</td>\n",
       "      <td>0.764802</td>\n",
       "    </tr>\n",
       "  </tbody>\n",
       "</table>\n",
       "</div>"
      ],
      "text/plain": [
       "      fold     train     valid\n",
       "0        0  0.828539  0.762366\n",
       "1        1  0.823662  0.763258\n",
       "2        2  0.835283  0.768579\n",
       "3        3  0.843329  0.766198\n",
       "4        4  0.827245  0.763649\n",
       "5  overall  0.831612  0.764802"
      ]
     },
     "execution_count": 57,
     "metadata": {},
     "output_type": "execute_result"
    }
   ],
   "source": [
    "metrics"
   ]
  },
  {
   "cell_type": "code",
   "execution_count": 58,
   "metadata": {
    "Collapsed": "false",
    "_uuid": "bd41dd2fc42440ce495fd42e4819b00e5658b656"
   },
   "outputs": [],
   "source": [
    "submission.to_csv('data_p7/submissions/selected_features_submission.csv', index = False)"
   ]
  },
  {
   "cell_type": "markdown",
   "metadata": {
    "Collapsed": "false",
    "_uuid": "b5e46e877e2be014cb9a821de7c93efb6d90f036"
   },
   "source": [
    "### Test \"Small\" Dataset\n",
    "\n",
    "The small dataset requires one additional step over the ful l dataset:\n",
    "\n",
    "* Keep only features needed to reach 95% cumulative importance in the gradient boosting machine"
   ]
  },
  {
   "cell_type": "code",
   "execution_count": 59,
   "metadata": {
    "Collapsed": "false",
    "_uuid": "a3a34bde5e4be879d334fff74a246c6c11b679e6"
   },
   "outputs": [
    {
     "name": "stdout",
     "output_type": "stream",
     "text": [
      "Training Data Shape:  (307511, 113)\n",
      "Testing Data Shape:  (48744, 113)\n",
      "[200]\ttrain's auc: 0.806722\ttrain's binary_logloss: 0.540078\tvalid's auc: 0.761622\tvalid's binary_logloss: 0.557427\n",
      "[400]\ttrain's auc: 0.840672\ttrain's binary_logloss: 0.504891\tvalid's auc: 0.762501\tvalid's binary_logloss: 0.535003\n",
      "[200]\ttrain's auc: 0.806334\ttrain's binary_logloss: 0.540351\tvalid's auc: 0.761576\tvalid's binary_logloss: 0.557887\n",
      "[400]\ttrain's auc: 0.840953\ttrain's binary_logloss: 0.504792\tvalid's auc: 0.762416\tvalid's binary_logloss: 0.535852\n",
      "[200]\ttrain's auc: 0.805536\ttrain's binary_logloss: 0.541513\tvalid's auc: 0.768098\tvalid's binary_logloss: 0.558059\n",
      "[400]\ttrain's auc: 0.840503\ttrain's binary_logloss: 0.505875\tvalid's auc: 0.769117\tvalid's binary_logloss: 0.535518\n",
      "[200]\ttrain's auc: 0.80626\ttrain's binary_logloss: 0.540989\tvalid's auc: 0.765143\tvalid's binary_logloss: 0.556223\n",
      "[200]\ttrain's auc: 0.807162\ttrain's binary_logloss: 0.539978\tvalid's auc: 0.762327\tvalid's binary_logloss: 0.558515\n"
     ]
    }
   ],
   "source": [
    "submission_small, feature_importances_small, metrics_small = model(train_small, test_small)"
   ]
  },
  {
   "cell_type": "code",
   "execution_count": 60,
   "metadata": {
    "Collapsed": "false",
    "_uuid": "beed5d5aed49e7a61db907778b8b717729697d76"
   },
   "outputs": [
    {
     "data": {
      "text/html": [
       "<div>\n",
       "<style scoped>\n",
       "    .dataframe tbody tr th:only-of-type {\n",
       "        vertical-align: middle;\n",
       "    }\n",
       "\n",
       "    .dataframe tbody tr th {\n",
       "        vertical-align: top;\n",
       "    }\n",
       "\n",
       "    .dataframe thead th {\n",
       "        text-align: right;\n",
       "    }\n",
       "</style>\n",
       "<table border=\"1\" class=\"dataframe\">\n",
       "  <thead>\n",
       "    <tr style=\"text-align: right;\">\n",
       "      <th></th>\n",
       "      <th>fold</th>\n",
       "      <th>train</th>\n",
       "      <th>valid</th>\n",
       "    </tr>\n",
       "  </thead>\n",
       "  <tbody>\n",
       "    <tr>\n",
       "      <th>0</th>\n",
       "      <td>0</td>\n",
       "      <td>0.831223</td>\n",
       "      <td>0.762634</td>\n",
       "    </tr>\n",
       "    <tr>\n",
       "      <th>1</th>\n",
       "      <td>1</td>\n",
       "      <td>0.838415</td>\n",
       "      <td>0.762440</td>\n",
       "    </tr>\n",
       "    <tr>\n",
       "      <th>2</th>\n",
       "      <td>2</td>\n",
       "      <td>0.826778</td>\n",
       "      <td>0.769351</td>\n",
       "    </tr>\n",
       "    <tr>\n",
       "      <th>3</th>\n",
       "      <td>3</td>\n",
       "      <td>0.818449</td>\n",
       "      <td>0.765883</td>\n",
       "    </tr>\n",
       "    <tr>\n",
       "      <th>4</th>\n",
       "      <td>4</td>\n",
       "      <td>0.818146</td>\n",
       "      <td>0.762904</td>\n",
       "    </tr>\n",
       "    <tr>\n",
       "      <th>5</th>\n",
       "      <td>overall</td>\n",
       "      <td>0.826602</td>\n",
       "      <td>0.764618</td>\n",
       "    </tr>\n",
       "  </tbody>\n",
       "</table>\n",
       "</div>"
      ],
      "text/plain": [
       "      fold     train     valid\n",
       "0        0  0.831223  0.762634\n",
       "1        1  0.838415  0.762440\n",
       "2        2  0.826778  0.769351\n",
       "3        3  0.818449  0.765883\n",
       "4        4  0.818146  0.762904\n",
       "5  overall  0.826602  0.764618"
      ]
     },
     "execution_count": 60,
     "metadata": {},
     "output_type": "execute_result"
    }
   ],
   "source": [
    "metrics_small"
   ]
  },
  {
   "cell_type": "code",
   "execution_count": 61,
   "metadata": {
    "Collapsed": "false",
    "_uuid": "edb183a37eaeff22deb3f5afb04b6da480997e63"
   },
   "outputs": [],
   "source": [
    "submission_small.to_csv('data_p7/submissions/selected_features_small_submission.csv', index = False)"
   ]
  },
  {
   "cell_type": "markdown",
   "metadata": {
    "Collapsed": "false",
    "_uuid": "054116a7cd95f8baeecf4ada05a21eddaaaad89e"
   },
   "source": [
    "# Conclusions\n",
    "\n",
    "In this notebook we employed a number of feature selection methods. These methods are necessary to reduce the number of features to increase model interpretability, decrease model runtime, and increase generalization performance on the test set. The methods of feature selection we used are:\n",
    "\n",
    "1. Remove highly collinear variables as measured by a correlation coefficient greater than 0.9\n",
    "2. Remove any columns with more than 75% missing values.\n",
    "3. Remove any features with a zero importance as determined by a gradient boosting machine.\n",
    "4. (Optional) keep only enough features to account for 95% of the importance in the gradient boosting machine.\n",
    "\n"
   ]
  },
  {
   "cell_type": "code",
   "execution_count": null,
   "metadata": {
    "Collapsed": "false",
    "_uuid": "07501aa5454fd60c183efb98c733b953ba6ae10d"
   },
   "outputs": [],
   "source": []
  }
 ],
 "metadata": {
  "kernelspec": {
   "display_name": "Python 3",
   "language": "python",
   "name": "python3"
  },
  "language_info": {
   "codemirror_mode": {
    "name": "ipython",
    "version": 3
   },
   "file_extension": ".py",
   "mimetype": "text/x-python",
   "name": "python",
   "nbconvert_exporter": "python",
   "pygments_lexer": "ipython3",
   "version": "3.8.8"
  }
 },
 "nbformat": 4,
 "nbformat_minor": 4
}
